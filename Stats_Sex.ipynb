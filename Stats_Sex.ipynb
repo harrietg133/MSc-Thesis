{
 "cells": [
  {
   "cell_type": "code",
   "execution_count": 1,
   "id": "dd653b68-2ec0-4e92-a359-7248b2c6b8dc",
   "metadata": {
    "editable": true,
    "slideshow": {
     "slide_type": ""
    },
    "tags": []
   },
   "outputs": [
    {
     "name": "stdout",
     "output_type": "stream",
     "text": [
      "Defaulting to user installation because normal site-packages is not writeable\n",
      "Looking in links: /usr/share/pip-wheels\n",
      "Requirement already satisfied: scipy in /opt/conda/envs/anaconda-panel-2023.05-py310/lib/python3.11/site-packages (1.11.1)\n",
      "Requirement already satisfied: numpy<1.28.0,>=1.21.6 in /opt/conda/envs/anaconda-panel-2023.05-py310/lib/python3.11/site-packages (from scipy) (1.24.3)\n",
      "Note: you may need to restart the kernel to use updated packages.\n"
     ]
    }
   ],
   "source": [
    "pip install scipy"
   ]
  },
  {
   "cell_type": "code",
   "execution_count": 2,
   "id": "da94e785-de9c-46c8-a8b4-5f3b15e5c500",
   "metadata": {},
   "outputs": [
    {
     "name": "stdout",
     "output_type": "stream",
     "text": [
      "Bartlett’s test statistic: 4.8751\n",
      "P-value: 0.0874\n",
      "Variances are not significantly different (homogeneous).\n"
     ]
    }
   ],
   "source": [
    "import pandas as pd\n",
    "from scipy.stats import bartlett\n",
    "\n",
    "# Load data\n",
    "df = pd.read_csv(\"Sex_Data.csv\")\n",
    "\n",
    "# Drop missing values\n",
    "df = df.dropna(subset=[\"Sex\", \"Volume\"])\n",
    "\n",
    "# Group body volumes by sex\n",
    "grouped_data = df.groupby(\"Sex\")[\"Volume\"].apply(list)\n",
    "\n",
    "# Ensure there are at least two groups\n",
    "if len(grouped_data) >= 2:\n",
    "    # Perform Bartlett's test\n",
    "    stat, p_value = bartlett(*grouped_data)\n",
    "\n",
    "    print(f\"Bartlett’s test statistic: {stat:.4f}\")\n",
    "    print(f\"P-value: {p_value:.4f}\")\n",
    "\n",
    "    if p_value < 0.05:\n",
    "        print(\"Variances are significantly different (heterogeneous).\")\n",
    "    else:\n",
    "        print(\"Variances are not significantly different (homogeneous).\")\n",
    "else:\n",
    "    print(\"Not enough groups to perform Bartlett’s test.\")\n"
   ]
  },
  {
   "cell_type": "code",
   "execution_count": 3,
   "id": "3710c50a-dcad-40b6-9bcc-03efb8a1f6bb",
   "metadata": {
    "editable": true,
    "slideshow": {
     "slide_type": ""
    },
    "tags": []
   },
   "outputs": [
    {
     "name": "stdout",
     "output_type": "stream",
     "text": [
      "F-statistic: 3.0569420307075195\n",
      "P-value: 0.0569058192636609\n"
     ]
    }
   ],
   "source": [
    "from scipy.stats import f_oneway\n",
    "\n",
    "#Perform One-Way Anova\n",
    "\n",
    "df = pd.read_csv(\"Sex_Data.csv\")\n",
    "\n",
    "grouped = df.groupby(\"Sex\")[\"Volume\"].apply(list)\n",
    "\n",
    "f_statistic, p_value = f_oneway(*grouped)\n",
    "\n",
    "print(f\"F-statistic: {f_statistic}\")\n",
    "print(f\"P-value: {p_value}\")"
   ]
  },
  {
   "cell_type": "code",
   "execution_count": null,
   "id": "aaf17ff1-23b2-4d5a-bff4-443df2068686",
   "metadata": {},
   "outputs": [],
   "source": []
  }
 ],
 "metadata": {
  "kernelspec": {
   "display_name": "anaconda-panel-2023.05-py310",
   "language": "python",
   "name": "conda-env-anaconda-panel-2023.05-py310-py"
  },
  "language_info": {
   "codemirror_mode": {
    "name": "ipython",
    "version": 3
   },
   "file_extension": ".py",
   "mimetype": "text/x-python",
   "name": "python",
   "nbconvert_exporter": "python",
   "pygments_lexer": "ipython3",
   "version": "3.11.5"
  }
 },
 "nbformat": 4,
 "nbformat_minor": 5
}

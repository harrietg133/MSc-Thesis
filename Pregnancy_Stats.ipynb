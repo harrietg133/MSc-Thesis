{
 "cells": [
  {
   "cell_type": "code",
   "execution_count": 1,
   "id": "303c41c6-1428-40b0-a5f2-52df8470f9d4",
   "metadata": {},
   "outputs": [
    {
     "name": "stdout",
     "output_type": "stream",
     "text": [
      "Defaulting to user installation because normal site-packages is not writeable\n",
      "Looking in links: /usr/share/pip-wheels\n",
      "Requirement already satisfied: scipy in /opt/conda/envs/anaconda-panel-2023.05-py310/lib/python3.11/site-packages (1.11.1)\n",
      "Requirement already satisfied: numpy<1.28.0,>=1.21.6 in /opt/conda/envs/anaconda-panel-2023.05-py310/lib/python3.11/site-packages (from scipy) (1.24.3)\n",
      "Note: you may need to restart the kernel to use updated packages.\n"
     ]
    }
   ],
   "source": [
    "pip install scipy"
   ]
  },
  {
   "cell_type": "code",
   "execution_count": 2,
   "id": "f62f987c-7c1a-49d5-b241-81d8477bfec9",
   "metadata": {},
   "outputs": [
    {
     "name": "stdout",
     "output_type": "stream",
     "text": [
      "Shapiro-Wilk Test Statistic: 0.9641\n",
      "P-value: 0.4553\n",
      "The data is likely normally distributed.\n",
      "1 - Shapiro-Wilk p = 0.0197 (not normal)\n",
      "2 - Shapiro-Wilk p = 0.7419 (normal)\n"
     ]
    }
   ],
   "source": [
    "import pandas as pd\n",
    "from scipy.stats import shapiro\n",
    "\n",
    "# Load data\n",
    "df = pd.read_csv(\"Preg_Data.csv\")\n",
    "\n",
    "# Drop missing values just in case\n",
    "df = df.dropna(subset=[\"Volume\"])\n",
    "\n",
    "# Extract the numeric column you want to test\n",
    "body_volume = df[\"Volume\"]\n",
    "\n",
    "# Perform Shapiro-Wilk test\n",
    "stat, p = shapiro(body_volume)\n",
    "\n",
    "print(f\"Shapiro-Wilk Test Statistic: {stat:.4f}\")\n",
    "print(f\"P-value: {p:.4f}\")\n",
    "\n",
    "# Interpretation\n",
    "if p < 0.05:\n",
    "    print(\"The data is likely NOT normally distributed.\")\n",
    "else:\n",
    "    print(\"The data is likely normally distributed.\")\n",
    "    \n",
    "# Grouped Shapiro-Wilk\n",
    "for group, data in df.groupby(\"Status\"):\n",
    "    stat, p = shapiro(data[\"Volume\"].dropna())\n",
    "    print(f\"{group} - Shapiro-Wilk p = {p:.4f} ({'normal' if p >= 0.05 else 'not normal'})\")"
   ]
  },
  {
   "cell_type": "code",
   "execution_count": 3,
   "id": "1541c668-ea0b-40b5-b069-fffd0f8b48f0",
   "metadata": {
    "editable": true,
    "slideshow": {
     "slide_type": ""
    },
    "tags": []
   },
   "outputs": [
    {
     "name": "stdout",
     "output_type": "stream",
     "text": [
      "Mann-Whitney U statistic: 142.0000\n",
      "P-value: 0.0143\n",
      "Statistically significant difference in body volumes between pregnant and non-pregnant.\n"
     ]
    }
   ],
   "source": [
    "from scipy.stats import mannwhitneyu\n",
    "\n",
    "# Load your data and filter groups\n",
    "preg = df[df[\"Status\"] == 1][\"Volume\"].dropna()\n",
    "nonpreg = df[df[\"Status\"] == 2][\"Volume\"].dropna()\n",
    "\n",
    "# Check if both groups have data before performing the test\n",
    "if len(preg) > 0 and len(nonpreg) > 0:\n",
    "    # Perform Mann-Whitney U test\n",
    "    u_stat, p_value = mannwhitneyu(preg, nonpreg, alternative='two-sided')\n",
    "    \n",
    "    print(f\"Mann-Whitney U statistic: {u_stat:.4f}\")\n",
    "    print(f\"P-value: {p_value:.4f}\")\n",
    "    \n",
    "    # Interpretation\n",
    "    if p_value < 0.05:\n",
    "        print(\"Statistically significant difference in body volumes between pregnant and non-pregnant.\")\n",
    "    else:\n",
    "        print(\"No statistically significant difference in body volumes between the groups.\")\n",
    "else:\n",
    "    # Print diagnostic information\n",
    "    print(f\"Cannot perform test: preg group has {len(preg)} samples, nonpreg group has {len(nonpreg)} samples\")\n",
    "    print(\"Both groups must have at least one sample.\")\n",
    "    \n",
    "    # Optional: Print the unique values in Status column to check if the filtering is correct\n",
    "    print(\"Unique values in Status column:\", df[\"Status\"].unique())"
   ]
  },
  {
   "cell_type": "code",
   "execution_count": null,
   "id": "4d4bff71-2764-45c4-b412-ccbd2e1ec931",
   "metadata": {},
   "outputs": [],
   "source": []
  }
 ],
 "metadata": {
  "kernelspec": {
   "display_name": "anaconda-panel-2023.05-py310",
   "language": "python",
   "name": "conda-env-anaconda-panel-2023.05-py310-py"
  },
  "language_info": {
   "codemirror_mode": {
    "name": "ipython",
    "version": 3
   },
   "file_extension": ".py",
   "mimetype": "text/x-python",
   "name": "python",
   "nbconvert_exporter": "python",
   "pygments_lexer": "ipython3",
   "version": "3.11.5"
  }
 },
 "nbformat": 4,
 "nbformat_minor": 5
}

pip install scipy
import pandas as pd
from scipy.stats import shapiro

df = pd.read_csv("YOB_Data.csv")
df = df.dropna(subset="Mass")

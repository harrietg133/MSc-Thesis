{
 "cells": [
  {
   "cell_type": "code",
   "execution_count": 1,
   "id": "41806786-d3ab-40ca-9452-5566535f2de5",
   "metadata": {},
   "outputs": [
    {
     "name": "stdout",
     "output_type": "stream",
     "text": [
      "Defaulting to user installation because normal site-packages is not writeable\n",
      "Looking in links: /usr/share/pip-wheels\n",
      "Requirement already satisfied: scipy in /opt/conda/envs/anaconda-panel-2023.05-py310/lib/python3.11/site-packages (1.11.1)\n",
      "Requirement already satisfied: numpy<1.28.0,>=1.21.6 in /opt/conda/envs/anaconda-panel-2023.05-py310/lib/python3.11/site-packages (from scipy) (1.24.3)\n",
      "Note: you may need to restart the kernel to use updated packages.\n"
     ]
    }
   ],
   "source": [
    "pip install scipy"
   ]
  },
  {
   "cell_type": "code",
   "execution_count": 4,
   "id": "8ebe51e9-6ebd-41a5-a2c3-0f03ce9dbd07",
   "metadata": {
    "editable": true,
    "slideshow": {
     "slide_type": ""
    },
    "tags": []
   },
   "outputs": [
    {
     "name": "stdout",
     "output_type": "stream",
     "text": [
      "Bartlett’s test statistic: 2.8341\n",
      "P-value: 0.4179\n",
      "Variances are not significantly different (homogeneous).\n"
     ]
    }
   ],
   "source": [
    "import pandas as pd\n",
    "from scipy.stats import bartlett\n",
    "\n",
    "# Load data\n",
    "df = pd.read_csv(\"Age_Data.csv\")\n",
    "\n",
    "# Drop missing values\n",
    "df = df.dropna(subset=[\"Class\", \"Volume\"])\n",
    "\n",
    "# Group body volumes by sex\n",
    "grouped_data = df.groupby(\"Class\")[\"Volume\"].apply(list)\n",
    "\n",
    "# Ensure there are at least two groups\n",
    "if len(grouped_data) >= 2:\n",
    "    # Perform Bartlett's test\n",
    "    stat, p_value = bartlett(*grouped_data)\n",
    "\n",
    "    print(f\"Bartlett’s test statistic: {stat:.4f}\")\n",
    "    print(f\"P-value: {p_value:.4f}\")\n",
    "\n",
    "    if p_value < 0.05:\n",
    "        print(\"Variances are significantly different (heterogeneous).\")\n",
    "    else:\n",
    "        print(\"Variances are not significantly different (homogeneous).\")\n",
    "else:\n",
    "    print(\"Not enough groups to perform Bartlett’s test.\")"
   ]
  },
  {
   "cell_type": "code",
   "execution_count": 8,
   "id": "5368ceb6-b949-4be3-9a05-e662f7c81813",
   "metadata": {
    "editable": true,
    "slideshow": {
     "slide_type": ""
    },
    "tags": []
   },
   "outputs": [
    {
     "name": "stdout",
     "output_type": "stream",
     "text": [
      "F-statistic: 18.89868307269154\n",
      "P-value: 1.0327150752608068e-06\n"
     ]
    }
   ],
   "source": [
    "#Perform ANOVA\n",
    "from scipy.stats import f_oneway\n",
    "\n",
    "df = pd.read_csv(\"Age_Data.csv\")\n",
    "\n",
    "grouped = df.groupby(\"Class\")[\"Volume\"].apply(list)\n",
    "\n",
    "f_statistic, p_value = f_oneway(*grouped)\n",
    "\n",
    "print(f\"F-statistic: {f_statistic}\")\n",
    "print(f\"P-value: {p_value}\")\n"
   ]
  },
  {
   "cell_type": "code",
   "execution_count": null,
   "id": "e37313c4-b3af-41e8-9511-d73fc4ad40ee",
   "metadata": {},
   "outputs": [],
   "source": []
  }
 ],
 "metadata": {
  "kernelspec": {
   "display_name": "anaconda-panel-2023.05-py310",
   "language": "python",
   "name": "conda-env-anaconda-panel-2023.05-py310-py"
  },
  "language_info": {
   "codemirror_mode": {
    "name": "ipython",
    "version": 3
   },
   "file_extension": ".py",
   "mimetype": "text/x-python",
   "name": "python",
   "nbconvert_exporter": "python",
   "pygments_lexer": "ipython3",
   "version": "3.11.5"
  }
 },
 "nbformat": 4,
 "nbformat_minor": 5
}
